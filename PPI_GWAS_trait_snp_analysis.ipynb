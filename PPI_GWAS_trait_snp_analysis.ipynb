{
 "cells": [
  {
   "cell_type": "code",
   "execution_count": 1,
   "metadata": {
    "collapsed": false
   },
   "outputs": [],
   "source": [
    "import cPickle\n",
    "import networkx as nx\n",
    "from networkx.algorithms import bipartite\n",
    "import numpy as np\n",
    "import csv\n",
    "from matplotlib import pyplot as plt\n",
    "import matplotlib\n",
    "%matplotlib inline\n",
    "\n",
    "# change READABLE fonts that aren't ugly\n",
    "matplotlib.rc('xtick', labelsize=14) \n",
    "matplotlib.rc('ytick', labelsize=14) \n",
    "matplotlib.rc('font', **{'family':'sans-serif','sans-serif':['Arial']})\n",
    "matplotlib.rc('font', size=16)\n",
    "matplotlib.rc('xtick.major', size=6, width=1)\n",
    "matplotlib.rc('xtick.minor', size=3, width=1)\n",
    "matplotlib.rc('ytick.major', size=6, width=1)\n",
    "matplotlib.rc('ytick.minor', size=3, width=1)\n",
    "matplotlib.rc('axes', linewidth=1)"
   ]
  },
  {
   "cell_type": "markdown",
   "metadata": {},
   "source": [
    "# PPI topology"
   ]
  },
  {
   "cell_type": "code",
   "execution_count": 2,
   "metadata": {
    "collapsed": false
   },
   "outputs": [],
   "source": [
    "# Load PPI\n",
    "fn = './PPI_July_2013.pcl'\n",
    "with open(fn, 'r') as fp:\n",
    "    PPI = cPickle.load(fp)"
   ]
  },
  {
   "cell_type": "code",
   "execution_count": 3,
   "metadata": {
    "collapsed": true
   },
   "outputs": [],
   "source": [
    "# Load the look up table for integer node labels in PPI\n",
    "PPI_lut = {}\n",
    "with open(\"./gene_info_stripped_human\") as f:\n",
    "    for line in f:\n",
    "        (key, val) = line.split()\n",
    "        PPI_lut[int(key)] = val"
   ]
  },
  {
   "cell_type": "markdown",
   "metadata": {
    "collapsed": true
   },
   "source": [
    "## Pleiotropy as a function of PPI topology\n",
    "- GWAS data is used to infer the pleiotropy of genes"
   ]
  },
  {
   "cell_type": "code",
   "execution_count": 4,
   "metadata": {
    "collapsed": true
   },
   "outputs": [],
   "source": [
    "# Load GWAS\n",
    "fn = './gwas.pcl'\n",
    "with open(fn, 'r') as fp:\n",
    "    GWAS = cPickle.load(fp)"
   ]
  },
  {
   "cell_type": "code",
   "execution_count": 5,
   "metadata": {
    "collapsed": false
   },
   "outputs": [],
   "source": [
    "# create GWAS gene->trait network\n",
    "GWAS_gt = nx.Graph()\n",
    "for n1,n2,d in GWAS.edges_iter(data=True):\n",
    "    if d['edge_type']=='gene->trait':\n",
    "        GWAS_gt.add_edge(n1,n2)\n",
    "\n",
    "# create GWAS snp->gene network\n",
    "GWAS_sg = nx.Graph()\n",
    "for n1,n2,d in GWAS.edges_iter(data=True):\n",
    "    if d['edge_type']=='snp->gene':\n",
    "        GWAS_sg.add_edge(n1,n2)"
   ]
  },
  {
   "cell_type": "code",
   "execution_count": 6,
   "metadata": {
    "collapsed": true
   },
   "outputs": [],
   "source": [
    "# cc = nx.closeness_centrality(PPI)\n",
    "# bc = nx.betweenness_centrality(PPI)\n",
    "ec = nx.eigenvector_centrality(PPI)\n",
    "clust = nx.clustering(PPI)\n",
    "\n",
    "# Load bc\n",
    "fn = './ppi_betweenness_centrality.pcl'\n",
    "with open(fn, 'r') as fp:\n",
    "    bc = cPickle.load(fp)\n",
    "fn = './ppi_closeness_centrality.pcl'\n",
    "with open(fn, 'r') as fp:\n",
    "    cc = cPickle.load(fp)"
   ]
  },
  {
   "cell_type": "code",
   "execution_count": 7,
   "metadata": {
    "collapsed": true
   },
   "outputs": [],
   "source": [
    "#cPickle.dump(cc, open(\"ppi_closeness_centrality.pcl\", \"w\"))\n",
    "#cPickle.dump(cc, open(\"ppi_betweenness_centrality.pcl\", \"w\"))"
   ]
  },
  {
   "cell_type": "code",
   "execution_count": 9,
   "metadata": {
    "collapsed": false
   },
   "outputs": [],
   "source": [
    "# get degree pleiotropy pairs\n",
    "degs = []\n",
    "pleis = []\n",
    "bcs = []\n",
    "ecs = []\n",
    "ccs = []\n",
    "clusts = []\n",
    "SNPs = []\n",
    "    \n",
    "for n in PPI.nodes_iter():\n",
    "    if PPI_lut.has_key(int(n)):\n",
    "        if GWAS_gt.has_node(PPI_lut[int(n)]) and GWAS_sg.has_node(PPI_lut[int(n)]):\n",
    "            ccs.append(cc[n])\n",
    "            bcs.append(bc[n])\n",
    "            ecs.append(ec[n])\n",
    "            degs.append(PPI.degree(n))\n",
    "            pleis.append(GWAS_gt.degree(PPI_lut[int(n)]))\n",
    "            clusts.append(clust[n])\n",
    "            SNPs.append(GWAS_sg.degree(PPI_lut[int(n)]))"
   ]
  },
  {
   "cell_type": "code",
   "execution_count": 12,
   "metadata": {
    "collapsed": false
   },
   "outputs": [
    {
     "data": {
      "image/png": "[encoded data removed]",
      "text/plain": [
       "<matplotlib.figure.Figure at 0x10aeebb50>"
      ]
     },
     "metadata": {},
     "output_type": "display_data"
    }
   ],
   "source": [
    "plt.figure(figsize=(8,6))\n",
    "plt.scatter(SNPs, pleis, c='darkred',marker='o',)\n",
    "ax = plt.gca()\n",
    "#ax.set_xscale('log')\n",
    "plt.xlabel(r\"SNPs\", fontsize=16)\n",
    "plt.ylabel(r\"Pleiotropy\", fontsize=16)\n",
    "plt.title(\"Pleiotropy vs. SNPs\")\n",
    "plt.show()"
   ]
  },
  {
   "cell_type": "code",
   "execution_count": null,
   "metadata": {
    "collapsed": true
   },
   "outputs": [],
   "source": []
  }
 ],
 "metadata": {
  "kernelspec": {
   "display_name": "Python 2",
   "language": "python",
   "name": "python2"
  },
  "language_info": {
   "codemirror_mode": {
    "name": "ipython",
    "version": 2
   },
   "file_extension": ".py",
   "mimetype": "text/x-python",
   "name": "python",
   "nbconvert_exporter": "python",
   "pygments_lexer": "ipython2",
   "version": "2.7.10"
  }
 },
 "nbformat": 4,
 "nbformat_minor": 0
}
